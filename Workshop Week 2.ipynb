{
 "cells": [
  {
   "cell_type": "markdown",
   "metadata": {},
   "source": [
    "The goal this week is to pratice using Markdown to write descriptive text in notebooks and then look at Python data structures including the pandas module that supports data structures designed for handling the kind of data we'll be working with.  \n",
    "\n",
    "There is probably too much work to complete here in the workshop session, but please use this notebook after the workshop to practice your Python.  Remember to commit your changes to git as you go and push back to Github when you are done."
   ]
  },
  {
   "cell_type": "code",
   "execution_count": 1,
   "metadata": {},
   "outputs": [],
   "source": [
    "student_name = \"Nathan Ho\"\n",
    "student_id = 46461019"
   ]
  },
  {
   "cell_type": "markdown",
   "metadata": {},
   "source": [
    "## Markdown Practice\n",
    "\n",
    "Complete this section as per the instructions in the iLearn practical page.  Add the required cells below this one."
   ]
  },
  {
   "cell_type": "markdown",
   "metadata": {},
   "source": [
    "## Markdown Samples\n",
    "Here are three useful features of [Markdown](https://daringfireball.net/projects/markdown/):\n",
    "<!-- numbered list -->\n",
    "1. It is easy to write \n",
    "2. It can be turned into HTML automatically\n",
    "3. It can be used to add simple formatting to text\n",
    "    - for example **bold text** and *italics* <!-- unordered list -->\n",
    "    - also different paragraph structes\n",
    "    \n",
    "This expression $\\sqrt{3x-1}$ + $(1 + x)^2$ is an example of a TeX  inline equation in a [Markdown-formatted](https://daringfireball.net/projects/markdown/) sentence.\n",
    "\n",
    "Here is a sample of code:\n",
    "    \n",
    "    git pull --rebase upstream master\n",
    "\n",
    "and here is an image inserted into the page:\n",
    "\n",
    "<!-- ![git logo](https://git-scm.com/images/logos/downloads/Git-Logo-2Color.png) -->\n",
    "<img src = \"https://git-scm.com/images/logos/downloads/Git-Logo-2Color.png\" width = 100>\n",
    "<!--\n",
    "![git logo](files/Git-logo-2Color)\n",
    "<img src = \"C:\\Users\\46461019\\practical-workshops-N-2-O\" width = 100> -->"
   ]
  },
  {
   "cell_type": "code",
   "execution_count": null,
   "metadata": {},
   "outputs": [],
   "source": []
  },
  {
   "cell_type": "markdown",
   "metadata": {},
   "source": [
    "## Lists and Dictionaries\n",
    "\n",
    "First we look at some built in Python data structures: lists and dictionaries. \n",
    "\n",
    "A list is a sequence of things, unlike strongly typed languages (Java, C#) a list can contain a mixture of different types - there is no type for a list of integers or a list of lists.   Here are some lists:"
   ]
  },
  {
   "cell_type": "code",
   "execution_count": 19,
   "metadata": {},
   "outputs": [],
   "source": [
    "ages = [12, 99, 51, 3, 55]\n",
    "names = ['steve', 'jim', 'mary', 'carrie', 'zin']\n",
    "stuff = [12, 'eighteen', 6, ['another', 'list']]"
   ]
  },
  {
   "cell_type": "markdown",
   "metadata": {},
   "source": [
    "1. write code to print the first and third elements of each list\n",
    "2. write code to select and print everything except the first element of each list\n",
    "3. write a for loop that prints each element of the 'names' list"
   ]
  },
  {
   "cell_type": "code",
   "execution_count": 24,
   "metadata": {},
   "outputs": [
    {
     "name": "stdout",
     "output_type": "stream",
     "text": [
      "First value: 12, Third value: 51\n",
      "\n",
      "First value: steve, Third value: mary\n",
      "\n",
      "First value: 12, Third value: 6\n",
      "\n",
      "[99, 51, 3, 55]\n",
      "\n",
      "['jim', 'mary', 'carrie', 'zin']\n",
      "\n",
      "['eighteen', 6, ['another', 'list']]\n",
      "\n",
      "steve\n",
      "jim\n",
      "mary\n",
      "carrie\n",
      "zin\n"
     ]
    }
   ],
   "source": [
    "#1\n",
    "def firstAndThird(list):\n",
    "    print(\"First value: \" + str(list[0]) + \", Third value: \" + str(list[2]))\n",
    "    print()\n",
    "\n",
    "firstAndThird(ages)\n",
    "firstAndThird(names)\n",
    "firstAndThird(stuff)\n",
    "\n",
    "#2\n",
    "def exceptFirst(list):\n",
    "    print(list[1:])\n",
    "    print()\n",
    "        \n",
    "exceptFirst(ages)\n",
    "exceptFirst(names)\n",
    "exceptFirst(stuff)\n",
    "\n",
    "#3\n",
    "for i in range(len(names)):\n",
    "    print(names[i])"
   ]
  },
  {
   "cell_type": "markdown",
   "metadata": {},
   "source": [
    "A dictionary is an associative array - it associates a value (any Python data type) with a key. The key is usually a string but can be any immutable type (string, number, tuple).  Here's some code that counts the occurence of words in a string.  It stores the count for each word in a dictionary using the word as a key. If the word is already stored in the dictionary, it adds one to the count, if not, it initialises the count to one.  \n",
    "\n",
    "The second for loop iterates over the keys in the dictionary and prints one line per entry.\n",
    "\n",
    "Modify this example to be a bit smarter:\n",
    "- make sure that punctuation characters are not included as parts of a word, be careful with hyphens - should they be included or not?\n",
    "- make the count use the lowercase version of a word, so that 'The' and 'the' are counted as the same word\n",
    "- **Challenge**: find the first and second most frequent words in the text\n",
    "- **Challenge**: take your code and write it as a function that takes a string and returns a list of words with their counts in order"
   ]
  },
  {
   "cell_type": "code",
   "execution_count": 1,
   "metadata": {},
   "outputs": [
    {
     "name": "stdout",
     "output_type": "stream",
     "text": [
      "this 2\n",
      "unit 3\n",
      "introduces 1\n",
      "students 2\n",
      "to 4\n",
      "the 6\n",
      "fundamental 1\n",
      "techniques 1\n",
      "and 3\n",
      "tools 2\n",
      "of 3\n",
      "data 6\n",
      "science 2\n",
      "such 1\n",
      "as 1\n",
      "graphical 1\n",
      "display 1\n",
      "predictive 1\n",
      "models 1\n",
      "evaluation 1\n",
      "methodologies 1\n",
      "regression 1\n",
      "classification 1\n",
      "clustering 1\n",
      "provides 1\n",
      "practical 1\n",
      "experience 1\n",
      "applying 1\n",
      "these 2\n",
      "methods 3\n",
      "using 1\n",
      "industry-standard 1\n",
      "software 1\n",
      "real-world 2\n",
      "sets 1\n",
      "who 1\n",
      "have 2\n",
      "completed 1\n",
      "will 1\n",
      "be 1\n",
      "able 1\n",
      "identify 1\n",
      "which 1\n",
      "are 1\n",
      "most 1\n",
      "appropriate 1\n",
      "for 1\n",
      "a 1\n",
      "set 2\n",
      "apply 1\n",
      "interpret 1\n",
      "results 1\n",
      "analysis 1\n",
      "they 1\n",
      "performed 1\n"
     ]
    }
   ],
   "source": [
    "description = \"\"\"This unit introduces students to the fundamental techniques and \n",
    "tools of data science, such as the graphical display of data, \n",
    "predictive models, evaluation methodologies, regression, \n",
    "classification and clustering. The unit provides practical \n",
    "experience applying these methods using industry-standard \n",
    "software tools to real-world data sets. Students who have \n",
    "completed this unit will be able to identify which data \n",
    "science methods are most appropriate for a real-world data \n",
    "set, apply these methods to the data set, and interpret the \n",
    "results of the analysis they have performed. \"\"\"\n",
    "\n",
    "\n",
    "count = dict()\n",
    "for word in description.strip().lower().replace(\",\", \"\").replace(\".\", \"\").split():\n",
    "    if word in count:\n",
    "        count[word] += 1\n",
    "    else:\n",
    "        count[word] = 1\n",
    "        \n",
    "for word in count:\n",
    "    print(word, count[word])\n",
    "\n",
    "#import re\n",
    "#new = re.sub(\"[\\@,.]\", \"\", description)\n",
    "#print(new)"
   ]
  },
  {
   "cell_type": "code",
   "execution_count": 27,
   "metadata": {},
   "outputs": [
    {
     "name": "stdout",
     "output_type": "stream",
     "text": [
      "Most common word: the (6)\n",
      "Second most common word: data (6)\n"
     ]
    }
   ],
   "source": [
    "max = 0;\n",
    "maxWord = \"\";\n",
    "for word in count:\n",
    "    if max < count[word]:\n",
    "        max = count[word]\n",
    "        maxWord = word\n",
    "print(\"Most common word: \" + maxWord + \" (\" + str(max) + \")\")\n",
    "\n",
    "max = 0\n",
    "secondMaxWord = \"\"\n",
    "for word in count:\n",
    "    if max < count[word] and word != maxWord:\n",
    "        max = count[word]\n",
    "        secondMaxWord = word\n",
    "print(\"Second most common word: \" + secondMaxWord + \" (\" + str(max) + \")\")"
   ]
  },
  {
   "cell_type": "markdown",
   "metadata": {},
   "source": [
    "## Pandas Data Frames\n",
    "\n",
    "[Pandas](https://pandas.pydata.org) is a Python module that provides some important data structures for Data Science work and a large collection of methods for data analysis. \n",
    "\n",
    "The two main data structures are the [Series]() and [DataFrame](http://pandas.pydata.org/pandas-docs/stable/dsintro.html#dataframe).  \n",
    "\n",
    "DataFrame: rows and columns of a spreadsheet\n",
    "Series: only one row or column\n",
    "\n",
    "A Series is a one dimensional array of data, but unlike the Python list the data is indexed - the index is like the dictionary key, any immutable value like a number or string.  You can use the label to select elements from the series as well as positional values.  \n",
    "\n",
    "A DataFrame is analogous to a spreadsheet - a two dimensional table of data with indexed rows and named columns. \n",
    "\n",
    "You should read up on these and follow the examples in the text.  Here are a few exercises to complete with data frames."
   ]
  },
  {
   "cell_type": "markdown",
   "metadata": {},
   "source": [
    "You are given three csv files containing sample data."
   ]
  },
  {
   "cell_type": "code",
   "execution_count": 41,
   "metadata": {},
   "outputs": [],
   "source": [
    "import pandas as pd\n",
    "import numpy as np\n",
    "import matplotlib.pyplot as plt\n",
    "%matplotlib inline\n",
    "\n",
    "ds1 = 'files/ds1.csv'\n",
    "ds2 = 'files/ds2.csv'\n",
    "ds3 = 'files/ds3.csv'"
   ]
  },
  {
   "cell_type": "markdown",
   "metadata": {},
   "source": [
    "Write code below to read one of these data files into a pandas data frame and:\n",
    "- show the first few rows: .head\n",
    "- find the summary data for each column: .describe\n",
    "- select just those rows where the value of x and y is over 50\n",
    "- select the column 'x' and create a series\n",
    "- plot the 'x' series as a line graph\n",
    "- plot the dataframe as a scatterplot\n",
    "\n",
    "Once you have the code for this, you can change the file you use for input of the data (ds2, ds3) and re-run the following cells to see the different output that is generated"
   ]
  },
  {
   "cell_type": "code",
   "execution_count": 52,
   "metadata": {},
   "outputs": [
    {
     "name": "stdout",
     "output_type": "stream",
     "text": [
      "df1 shape: (142, 2)\n",
      "df2 shape: (142, 2)\n",
      "df3 shape: (142, 2)\n"
     ]
    }
   ],
   "source": [
    "# write your code here\n",
    "df1 = pd.read_csv(ds1)\n",
    "df2 = pd.read_csv(ds2)\n",
    "df3 = pd.read_csv(ds3)\n",
    "\n",
    "print(\"df1 shape:\", df1.shape)\n",
    "print(\"df2 shape:\", df2.shape)\n",
    "print(\"df3 shape:\", df3.shape)"
   ]
  },
  {
   "cell_type": "code",
   "execution_count": 78,
   "metadata": {},
   "outputs": [
    {
     "name": "stdout",
     "output_type": "stream",
     "text": [
      "         x        y\n",
      "0  55.3846  97.1795\n",
      "1  51.5385  96.0256\n",
      "2  46.1538  94.4872\n",
      "3  42.8205  91.4103\n",
      "4  40.7692  88.3333\n",
      "           x        y\n",
      "137  39.4872  25.3846\n",
      "138  91.2821  41.5385\n",
      "139  50.0000  95.7692\n",
      "140  47.9487  95.0000\n",
      "141  44.1026  92.6923\n",
      "Index(['x', 'y'], dtype='object')\n",
      "<bound method NDFrame.describe of            x        y\n",
      "0    55.3846  97.1795\n",
      "1    51.5385  96.0256\n",
      "2    46.1538  94.4872\n",
      "3    42.8205  91.4103\n",
      "4    40.7692  88.3333\n",
      "5    38.7179  84.8718\n",
      "6    35.6410  79.8718\n",
      "7    33.0769  77.5641\n",
      "8    28.9744  74.4872\n",
      "9    26.1538  71.4103\n",
      "10   23.0769  66.4103\n",
      "11   22.3077  61.7949\n",
      "12   22.3077  57.1795\n",
      "13   23.3333  52.9487\n",
      "14   25.8974  51.0256\n",
      "15   29.4872  51.0256\n",
      "16   32.8205  51.0256\n",
      "17   35.3846  51.4103\n",
      "18   40.2564  51.4103\n",
      "19   44.1026  52.9487\n",
      "20   46.6667  54.1026\n",
      "21   50.0000  55.2564\n",
      "22   53.0769  55.6410\n",
      "23   56.6667  56.0256\n",
      "24   59.2308  57.9487\n",
      "25   61.2821  62.1795\n",
      "26   61.5385  66.4103\n",
      "27   61.7949  69.1026\n",
      "28   57.4359  55.2564\n",
      "29   54.8718  49.8718\n",
      "..       ...      ...\n",
      "112  52.3077  18.3333\n",
      "113  49.7436  17.5641\n",
      "114  47.4359  16.0256\n",
      "115  44.8718  13.7180\n",
      "116  48.7179  14.8718\n",
      "117  51.2821  14.8718\n",
      "118  54.1026  14.8718\n",
      "119  56.1538  14.1026\n",
      "120  52.0513  12.5641\n",
      "121  48.7179  11.0256\n",
      "122  47.1795   9.8718\n",
      "123  46.1538   6.0256\n",
      "124  50.5128   9.4872\n",
      "125  53.8462  10.2564\n",
      "126  57.4359  10.2564\n",
      "127  60.0000  10.6410\n",
      "128  64.1026  10.6410\n",
      "129  66.9231  10.6410\n",
      "130  71.2821  10.6410\n",
      "131  74.3590  10.6410\n",
      "132  78.2051  10.6410\n",
      "133  67.9487   8.7180\n",
      "134  68.4615   5.2564\n",
      "135  68.2051   2.9487\n",
      "136  37.6923  25.7692\n",
      "137  39.4872  25.3846\n",
      "138  91.2821  41.5385\n",
      "139  50.0000  95.7692\n",
      "140  47.9487  95.0000\n",
      "141  44.1026  92.6923\n",
      "\n",
      "[142 rows x 2 columns]>\n"
     ]
    }
   ],
   "source": [
    "print(df1.head()) #first five rows\n",
    "print(df1.tail()) #last five rows\n",
    "print(df1.columns) #column names\n",
    "print(df1.describe)"
   ]
  },
  {
   "cell_type": "code",
   "execution_count": 77,
   "metadata": {},
   "outputs": [
    {
     "data": {
      "text/plain": [
       "<matplotlib.axes._subplots.AxesSubplot at 0x1c2e4b64160>"
      ]
     },
     "execution_count": 77,
     "metadata": {},
     "output_type": "execute_result"
    },
    {
     "data": {
      "image/png": "[encoded data removed]",
      "text/plain": [
       "<Figure size 432x288 with 1 Axes>"
      ]
     },
     "metadata": {
      "needs_background": "light"
     },
     "output_type": "display_data"
    },
    {
     "data": {
      "image/png": "[encoded data removed]",
      "text/plain": [
       "<Figure size 432x288 with 1 Axes>"
      ]
     },
     "metadata": {
      "needs_background": "light"
     },
     "output_type": "display_data"
    },
    {
     "data": {
      "image/png": "[encoded data removed]",
      "text/plain": [
       "<Figure size 432x288 with 1 Axes>"
      ]
     },
     "metadata": {
      "needs_background": "light"
     },
     "output_type": "display_data"
    }
   ],
   "source": [
    "df1.plot.scatter(x = \"x\",y = \"y\", s = 5, c = \"red\")\n",
    "df2.plot.scatter(x = \"x\",y = \"y\", s = [3,25], c = \"black\")\n",
    "df3.plot.scatter(x = \"x\",y = \"y\", s = 10, c = \"yellow\")"
   ]
  },
  {
   "cell_type": "markdown",
   "metadata": {},
   "source": [
    "## Checkpoint\n",
    "\n",
    "Congratulations! you have finished the required task for Week 2. Since you got this empty (without your code and output) notebook by downloading from iLearn, place this notebook (Workshop Week 2.ipynb) into your local copy of your Github repository (e.g. practical-workshops-sonitsingh)and commit your work with a suitable commit message and push your changes back to your Github repository. Show your tutor your updated Github repository to get your checkpoint mark."
   ]
  },
  {
   "cell_type": "markdown",
   "metadata": {},
   "source": [
    "# Further Practice\n",
    "\n",
    "If you finish this task you can practice more with pandas data frames by following the examples in the text, section 2.6.  The CSV file that they use in that section is available in the `files` directory of this repository as `educ_figdp_1_Data.csv`.   "
   ]
  },
  {
   "cell_type": "code",
   "execution_count": null,
   "metadata": {},
   "outputs": [],
   "source": [
    "edufile = 'files/educ_figdp_1_Data.csv'"
   ]
  }
 ],
 "metadata": {
  "kernelspec": {
   "display_name": "Python 3",
   "language": "python",
   "name": "python3"
  },
  "language_info": {
   "codemirror_mode": {
    "name": "ipython",
    "version": 3
   },
   "file_extension": ".py",
   "mimetype": "text/x-python",
   "name": "python",
   "nbconvert_exporter": "python",
   "pygments_lexer": "ipython3",
   "version": "3.7.6"
  }
 },
 "nbformat": 4,
 "nbformat_minor": 2
}
